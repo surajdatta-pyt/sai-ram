{
  "nbformat": 4,
  "nbformat_minor": 0,
  "metadata": {
    "colab": {
      "provenance": [],
      "authorship_tag": "ABX9TyO/WYJiDM+gX2NvvVW7bNPl",
      "include_colab_link": true
    },
    "kernelspec": {
      "name": "python3",
      "display_name": "Python 3"
    },
    "language_info": {
      "name": "python"
    }
  },
  "cells": [
    {
      "cell_type": "markdown",
      "metadata": {
        "id": "view-in-github",
        "colab_type": "text"
      },
      "source": [
        "<a href=\"https://colab.research.google.com/github/surajdatta-pyt/sai-ram/blob/main/suraj.ipynb\" target=\"_parent\"><img src=\"https://colab.research.google.com/assets/colab-badge.svg\" alt=\"Open In Colab\"/></a>"
      ]
    },
    {
      "cell_type": "code",
      "execution_count": 1,
      "metadata": {
        "id": "yWFzxda_hxoP"
      },
      "outputs": [],
      "source": []
    },
    {
      "cell_type": "code",
      "source": [
        "!git config --global user.name \"surajdatta\"\n",
        "!git config --global user.email \"surajdatha00@gmail.com\"\n",
        "!git init\n",
        "!git remote add origin https://github.com/surajdatta-pyt/sai-ram.git\n",
        "!git checkout -b main\n",
        "!git add .\n",
        "!git commit -m \"Initial commit\"\n",
        "!git push -u origin main"
      ],
      "metadata": {
        "colab": {
          "base_uri": "https://localhost:8080/"
        },
        "id": "AqhXnnnrj8HS",
        "outputId": "db6d5359-047a-49b5-e8cc-46b60a946fd9"
      },
      "execution_count": 2,
      "outputs": [
        {
          "output_type": "stream",
          "name": "stdout",
          "text": [
            "Reinitialized existing Git repository in /content/.git/\n",
            "error: remote origin already exists.\n",
            "fatal: A branch named 'main' already exists.\n",
            "On branch main\n",
            "nothing to commit, working tree clean\n",
            "git: 'push -u origin main' is not a git command. See 'git --help'.\n"
          ]
        }
      ]
    },
    {
      "cell_type": "code",
      "source": [
        "print(\"sai ram\")"
      ],
      "metadata": {
        "colab": {
          "base_uri": "https://localhost:8080/"
        },
        "id": "2HgAU22Yq9W9",
        "outputId": "1d2ac225-c15f-4d4d-bc07-5071f4958af3"
      },
      "execution_count": 3,
      "outputs": [
        {
          "output_type": "stream",
          "name": "stdout",
          "text": [
            "sai ram\n"
          ]
        }
      ]
    }
  ]
}